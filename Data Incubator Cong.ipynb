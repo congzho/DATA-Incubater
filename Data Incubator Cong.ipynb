{
 "cells": [
  {
   "cell_type": "code",
   "execution_count": null,
   "metadata": {},
   "outputs": [],
   "source": [
    "\n",
    "library(readxl)\n",
    "library(magrittr) \n",
    "library(dplyr)    \n",
    "H1B <- read_excel(\"C:/Users/zhouco/Downloads/H1B.xlsx\")\n",
    "View(H1B)\n",
    "\n",
    "jobs_include <- c('ANALYST', 'ANALYTICS', 'ANALYSIS', 'STATISTICS',\n",
    "                  'DATA SCIENTIST', 'STATISTICIAN', 'BIOSTATISTICIAN', 'MODELER',\n",
    "                  'MACHINE LEARNING', 'DATA SCIENCE', 'PREDICTIVE',\n",
    "                  'BUSINESS INTELLIGENCE', 'REPORTING')\n",
    "jobs_exclude <- c('SYSTEM ANALYST', 'SYSTEMS ANALYST', 'IT ANALYST', 'PROGRAMMER ANALYST', \n",
    "                  'APPLICATION ANALYST', 'COMPUTER ANALYST', 'SOFTWARE')\n",
    "\n",
    "pattern_include <- paste0(jobs_include, collapse = '|')\n",
    "pattern_exclude <- paste0(jobs_exclude, collapse = '|')\n",
    "h1b <- function(STATE){\n",
    "  STATE_stats <- H1B %>% \n",
    "    select(EMPLOYER_NAME, JOB_TITLE, EMPLOYER_CITY, EMPLOYER_STATE, WAGE_RATE_OF_PAY_FROM) %>%\n",
    "    filter(EMPLOYER_STATE == STATE & grepl(pattern = pattern_include, JOB_TITLE) &\n",
    "             !grepl(pattern = pattern_exclude, JOB_TITLE))\n",
    "  \n",
    "  STATE_stats_unique <- STATE_stats %>%\n",
    "    group_by(EMPLOYER_NAME) %>%\n",
    "    summarise(NUM_H1B_STATS = n()) %>%\n",
    "    arrange(desc(NUM_H1B_STATS))\n",
    "  \n",
    "  STATE_stats_join <- STATE_stats %>%\n",
    "    inner_join(STATE_stats_unique, by='EMPLOYER_NAME') %>%\n",
    "    arrange(desc(NUM_H1B_STATS), desc(EMPLOYER_NAME))\n",
    "  \n",
    "  \n",
    "  write.csv(STATE_stats_join, file=paste0(STATE, '_stats_h1b.csv'))\n",
    "  write.csv(STATE_stats_unique, file=paste0(STATE, '_stats_company.csv'))\n",
    "}\n",
    "states = c('CA','OH')\n",
    "sapply(states, FUN = h1b)\n",
    "\n",
    "\n",
    "library(ggplot2)\n",
    "california_company <- read.csv('CA_stats_company.csv')\n",
    "california_h1b <- read.csv('CA_stats_h1b.csv')\n",
    "head(california_company, 20)\n",
    "set.seed(123)\n",
    "california_h1b[floor(runif(7, min=0, max=nrow(ohio_h1b))), 2:7]\n",
    "p <- ggplot(data = california_company, aes(x=NUM_H1B_STATS)) + \n",
    "  geom_histogram(binwidth = 1, fill='blue') +\n",
    "  labs(title='Data Science H1B Visa Sponsors in California', \n",
    "       x='Number of H1B', y='Count of Employer') +\n",
    "  theme_classic()\n",
    "p\n",
    "\n"
   ]
  },
  {
   "attachments": {
    "Data%20Science.png": {
     "image/png": "[encoded data removed]"
    }
   },
   "cell_type": "markdown",
   "metadata": {},
   "source": [
    "![Data%20Science.png](attachment:Data%20Science.png)"
   ]
  },
  {
   "cell_type": "code",
   "execution_count": null,
   "metadata": {},
   "outputs": [],
   "source": []
  }
 ],
 "metadata": {
  "kernelspec": {
   "display_name": "Python 3",
   "language": "python",
   "name": "python3"
  },
  "language_info": {
   "codemirror_mode": {
    "name": "ipython",
    "version": 3
   },
   "file_extension": ".py",
   "mimetype": "text/x-python",
   "name": "python",
   "nbconvert_exporter": "python",
   "pygments_lexer": "ipython3",
   "version": "3.7.3"
  }
 },
 "nbformat": 4,
 "nbformat_minor": 2
}
